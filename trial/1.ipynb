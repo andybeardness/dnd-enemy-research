{
 "cells": [
  {
   "cell_type": "code",
   "execution_count": 2,
   "metadata": {},
   "outputs": [],
   "source": [
    "import random"
   ]
  },
  {
   "cell_type": "code",
   "execution_count": 107,
   "metadata": {},
   "outputs": [],
   "source": [
    "class Dice:\n",
    "    \"\"\"\n",
    "    TODO ...\n",
    "    \"\"\"\n",
    "    def __init__(self, variance=20):\n",
    "       self.variance = variance\n",
    "    \n",
    "    def roll(self):\n",
    "        \"\"\"\n",
    "        TODO ...\n",
    "        \"\"\"\n",
    "        return random.randint(1, self.variance)"
   ]
  },
  {
   "cell_type": "code",
   "execution_count": 126,
   "metadata": {},
   "outputs": [],
   "source": [
    "class HeroPerks:\n",
    "    \n",
    "    def __init__(\n",
    "        self,\n",
    "        p_str,\n",
    "        p_dex,\n",
    "        p_con,\n",
    "        p_int,\n",
    "        p_wis,\n",
    "        p_cha,\n",
    "    ):\n",
    "        self.str = p_str\n",
    "        self.dex = p_dex\n",
    "        self.con = p_con\n",
    "        self.int = p_int\n",
    "        self.wis = p_wis\n",
    "        self.cha = p_cha\n",
    "        "
   ]
  },
  {
   "cell_type": "code",
   "execution_count": 127,
   "metadata": {},
   "outputs": [],
   "source": [
    "class HeroModifiers:\n",
    "    \n",
    "    def __calculate_modifier__(self, perk):\n",
    "        \"\"\"\n",
    "        TODO ...\n",
    "        \"\"\"\n",
    "        based = perk - 10\n",
    "        \n",
    "        if based <= 0:\n",
    "            return 0\n",
    "        \n",
    "        divided = based / 2\n",
    "        \n",
    "        modifier = int(divided)\n",
    "        \n",
    "        return modifier\n",
    "    \n",
    "    def __init__(\n",
    "        self,\n",
    "        p_str,\n",
    "        p_dex,\n",
    "        p_con,\n",
    "        p_int,\n",
    "        p_wis,\n",
    "        p_cha,\n",
    "        \n",
    "    ):\n",
    "        self.str = self.__calculate_modifier__(p_str)\n",
    "        self.dex = self.__calculate_modifier__(p_dex)\n",
    "        self.con = self.__calculate_modifier__(p_con)\n",
    "        self.int = self.__calculate_modifier__(p_int)\n",
    "        self.wis = self.__calculate_modifier__(p_wis)\n",
    "        self.cha = self.__calculate_modifier__(p_cha)"
   ]
  },
  {
   "cell_type": "code",
   "execution_count": null,
   "metadata": {},
   "outputs": [],
   "source": [
    "class HeroHealth:\n",
    "    \"\"\"\n",
    "    TODO ...\n",
    "    \"\"\"\n",
    "    \n",
    "    def __init__(self, max_health, current_health):\n",
    "        self.__max_health__ = max_health\n",
    "        \n",
    "        if current_health > max_health:\n",
    "            self.__current_health__ = max_health\n",
    "            self.__is_alive__ = True\n",
    "        elif current_health < 0:\n",
    "            self.__current_health__ = 0\n",
    "            self.__is_alive = False\n",
    "        else:\n",
    "            self.__current_health__ = current_health\n",
    "            self.__is_alive__ = True\n",
    "        \n",
    "    def damage(damage):\n",
    "        if damage <= 0:\n",
    "            return\n",
    "        \n",
    "        if self.__current_health__ <= 0:\n",
    "            self.__current_health__ = 0\n",
    "            self.__is_alive__ = False\n",
    "            return\n",
    "        \n",
    "        self.__current_health__ = self.__current_health__ - damage\n",
    "        \n",
    "        if self.__current_health__ < 0:\n",
    "            self.__current_health__ = 0\n",
    "            self.__is_alive__ = False\n",
    "            return\n",
    "        \n",
    "        self.__is_alive__ = True\n",
    "        \n",
    "    def heal(heal):\n",
    "        if heal <= 0:\n",
    "            return\n",
    "        \n",
    "        if self.__is_alive__ == False\n",
    "        \n",
    "    def is_alive():\n",
    "        return self.__is_alive__\n",
    "    \n",
    "    def max_health():\n",
    "        return self.__max_health__\n",
    "    \n",
    "    def current_health():\n",
    "        return self.__current_health__\n",
    "    \n",
    "    "
   ]
  },
  {
   "cell_type": "code",
   "execution_count": 136,
   "metadata": {},
   "outputs": [],
   "source": [
    "class Hero:\n",
    "    def __init__(\n",
    "        self,\n",
    "        p_str,\n",
    "        p_dex,\n",
    "        p_con,\n",
    "        p_int,\n",
    "        p_wis,\n",
    "        p_cha,\n",
    "        health,\n",
    "    ):\n",
    "        self.perks = HeroPerks(\n",
    "            p_str=p_str, \n",
    "            p_dex=p_dex, \n",
    "            p_con=p_con, \n",
    "            p_int=p_int, \n",
    "            p_wis=p_wis, \n",
    "            p_cha=p_cha\n",
    "        )\n",
    "        \n",
    "        self.modifiers = HeroModifiers(\n",
    "            p_str=p_str, \n",
    "            p_dex=p_dex, \n",
    "            p_con=p_con, \n",
    "            p_int=p_int, \n",
    "            p_wis=p_wis, \n",
    "            p_cha=p_cha\n",
    "        )"
   ]
  },
  {
   "cell_type": "code",
   "execution_count": 137,
   "metadata": {},
   "outputs": [],
   "source": [
    "hero = Hero(1, 2, 3, 4, 5, 6)"
   ]
  },
  {
   "cell_type": "code",
   "execution_count": 138,
   "metadata": {},
   "outputs": [
    {
     "data": {
      "text/plain": [
       "6"
      ]
     },
     "execution_count": 138,
     "metadata": {},
     "output_type": "execute_result"
    }
   ],
   "source": [
    "hero.perks.cha"
   ]
  },
  {
   "cell_type": "code",
   "execution_count": 139,
   "metadata": {},
   "outputs": [
    {
     "data": {
      "text/plain": [
       "0"
      ]
     },
     "execution_count": 139,
     "metadata": {},
     "output_type": "execute_result"
    }
   ],
   "source": [
    "hero.modifiers.cha"
   ]
  },
  {
   "cell_type": "code",
   "execution_count": null,
   "metadata": {},
   "outputs": [],
   "source": []
  }
 ],
 "metadata": {
  "kernelspec": {
   "display_name": "Python 3",
   "language": "python",
   "name": "python3"
  },
  "language_info": {
   "codemirror_mode": {
    "name": "ipython",
    "version": 3
   },
   "file_extension": ".py",
   "mimetype": "text/x-python",
   "name": "python",
   "nbconvert_exporter": "python",
   "pygments_lexer": "ipython3",
   "version": "3.7.3"
  }
 },
 "nbformat": 4,
 "nbformat_minor": 2
}
